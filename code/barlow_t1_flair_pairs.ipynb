{
 "cells": [
  {
   "cell_type": "code",
   "execution_count": 9,
   "metadata": {},
   "outputs": [],
   "source": [
    "import pandas as pd\n",
    "import os\n",
    "import numpy as np\n",
    "from glob import glob\n",
    "\n",
    "os.chdir('/gpfs/home/lc3424/capstone/2021_dementia/lc3424_workspace/code')"
   ]
  },
  {
   "cell_type": "markdown",
   "metadata": {},
   "source": []
  },
  {
   "cell_type": "code",
   "execution_count": null,
   "metadata": {},
   "outputs": [],
   "source": [
    "flair_flavor_list = ['AX T2 FLAIR', 'Axial T2 FLAIR', 'SAG T2 FLAIR', 'AX FLAIR',\n",
    " 'COR FLAIR', 'SAG 3D FLAIR', '3D Sag T2 FLAIR Cube']\n",
    "flair_flavor_list += [flavor.replace(' ', '_') for flavor in flair_flavor_list]\n",
    "flair_flavor_list += [flavor.replace(' ', '-') for flavor in flair_flavor_list]\n",
    "flair_flavor_list = [flavor.lower() for flavor in flair_flavor_list]\n",
    "flair_flavor_list"
   ]
  },
  {
   "cell_type": "code",
   "execution_count": null,
   "metadata": {},
   "outputs": [],
   "source": [
    "def is_flair(x):\n",
    "    global flair_flavor_list\n",
    "    res = x.lower()\n",
    "    for flavor in flair_flavor_list:\n",
    "        if flavor in res:\n",
    "            return True\n",
    "    \n",
    "    return False"
   ]
  },
  {
   "cell_type": "code",
   "execution_count": null,
   "metadata": {},
   "outputs": [],
   "source": [
    "t1_processed_file_df = pd.read_csv('/gpfs/home/lc3424/capstone/2021_dementia/lc3424_workspace/experiments/20211102/volume_label_with_file_path_with_age_20211102.tsv', sep='\\t', index_col=0)\n",
    "t1_processed_file_df = t1_processed_file_df.groupby('Session').nth(0)\n",
    "t1_processed_file_df.reset_index(inplace=True)\n",
    "t1_processed_file_df"
   ]
  },
  {
   "cell_type": "code",
   "execution_count": null,
   "metadata": {},
   "outputs": [],
   "source": [
    "# Scan file of all modalities\n",
    "all_file = pd.read_csv('/gpfs/home/lc3424/capstone/2021_dementia/lc3424_workspace/code/all_file_path_with_label.tsv', sep='\\t')\n",
    "all_file.drop(['scan_date_time', 'label'], axis=1, inplace=True)\n",
    "# Scan file of T1 modalities\n",
    "t1_file = pd.read_csv('/gpfs/home/lc3424/capstone/2021_dementia/lc3424_workspace/code/t1_file_path_with_label.tsv', sep='\\t')\n",
    "t1_file.rename({'Path': 't1_path'}, axis=1, inplace=True)\n",
    "# We only need one t1 file for each session to make flair registration\n",
    "t1_file = t1_file.groupby('Session').nth(0)\n",
    "t1_file.reset_index(inplace=True)\n",
    "# get exact t1 pre-processed file path\n",
    "t1_processed_file_df = pd.read_csv('/gpfs/home/lc3424/capstone/2021_dementia/lc3424_workspace/experiments/20211102/volume_label_with_file_path_with_age_20211102.tsv', sep='\\t', index_col=0)\n",
    "t1_processed_file_df = t1_processed_file_df.groupby('Session').nth(0)\n",
    "t1_processed_file_df.reset_index(inplace=True)\n",
    "t1_file = t1_file.merge(t1_processed_file_df, on=['Session', 'Subject'], how='right')\n",
    "t1_file.drop(['label', 'dest_path', 't1_path', 'Age'], axis=1, inplace=True)\n",
    "t1_file.rename({'Path': \"t1_path\"}, inplace=True, axis=1)\n",
    "t1_file"
   ]
  },
  {
   "cell_type": "code",
   "execution_count": null,
   "metadata": {},
   "outputs": [],
   "source": [
    "flair_file = all_file.copy()\n",
    "flair_file = flair_file[flair_file.Path.apply(is_flair)]\n",
    "flair_file.reset_index(drop=True, inplace=True)\n",
    "flair_file.rename({'Path': 'flair_path'}, axis=1, inplace=True)\n",
    "flair_file"
   ]
  },
  {
   "cell_type": "code",
   "execution_count": null,
   "metadata": {},
   "outputs": [],
   "source": [
    "t1_flair_file = flair_file.merge(t1_file, on=['Session', 'Subject'], how='left')\n",
    "# print(t1_flair_file.shape)\n",
    "t1_flair_file.dropna(axis=0, inplace=True)\n",
    "\n",
    "t1_flair_file"
   ]
  },
  {
   "cell_type": "code",
   "execution_count": null,
   "metadata": {},
   "outputs": [],
   "source": [
    "t1_flair_file.to_csv('t1_flair_file_match.tsv', sep='\\t', index=False)"
   ]
  },
  {
   "cell_type": "code",
   "execution_count": 10,
   "metadata": {},
   "outputs": [],
   "source": [
    "t1_flair_file = pd.read_csv('t1_flair_file_match.tsv', sep='\\t')"
   ]
  },
  {
   "cell_type": "code",
   "execution_count": 12,
   "metadata": {},
   "outputs": [
    {
     "data": {
      "text/plain": [
       "flair_path    /gpfs/data/razavianlab/data/mri/nyu/barlow_nii...\n",
       "t1_path       /gpfs/data/razavianlab/data/mri/nyu/barlow_bid...\n",
       "Name: 1, dtype: object"
      ]
     },
     "execution_count": 12,
     "metadata": {},
     "output_type": "execute_result"
    }
   ],
   "source": [
    "temp = t1_flair_file.loc[1, ['flair_path', 't1_path']]\n",
    "temp"
   ]
  },
  {
   "cell_type": "code",
   "execution_count": 13,
   "metadata": {},
   "outputs": [],
   "source": [
    "flair, t1 = temp.flair_path, temp.t1_path"
   ]
  },
  {
   "cell_type": "code",
   "execution_count": null,
   "metadata": {},
   "outputs": [],
   "source": []
  },
  {
   "cell_type": "code",
   "execution_count": null,
   "metadata": {},
   "outputs": [],
   "source": []
  }
 ],
 "metadata": {
  "interpreter": {
   "hash": "0e8386aff9bed6f101dabdf7ab351760d41630455b6724ec66cb923012af5fad"
  },
  "kernelspec": {
   "display_name": "Python 3.9.5 64-bit ('base': conda)",
   "language": "python",
   "name": "python3"
  },
  "language_info": {
   "codemirror_mode": {
    "name": "ipython",
    "version": 3
   },
   "file_extension": ".py",
   "mimetype": "text/x-python",
   "name": "python",
   "nbconvert_exporter": "python",
   "pygments_lexer": "ipython3",
   "version": "3.9.5"
  },
  "orig_nbformat": 4
 },
 "nbformat": 4,
 "nbformat_minor": 2
}
