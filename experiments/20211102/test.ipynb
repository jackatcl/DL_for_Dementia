{
 "cells": [
  {
   "cell_type": "code",
   "execution_count": null,
   "metadata": {},
   "outputs": [],
   "source": [
    "import pandas as pd\n",
    "import argparse\n",
    "import numpy as np\n",
    "import pickle\n",
    "\n",
    "orig_file = \"/gpfs/home/lc3424/capstone/2021_dementia/lc3424_workspace/experiments/20211102/volume_label_with_file_path_with_age_20211102.tsv\"\n",
    "\n",
    "orig_file_df = pd.read_csv(orig_file, sep='\\t', index_col=0)\n",
    "orig_file_df\n"
   ]
  },
  {
   "cell_type": "code",
   "execution_count": null,
   "metadata": {},
   "outputs": [],
   "source": [
    "subjects = list(set(orig_file_df.Subject.to_list()))\n",
    "len(subjects)"
   ]
  },
  {
   "cell_type": "code",
   "execution_count": null,
   "metadata": {},
   "outputs": [],
   "source": [
    "subjects = np.random.RandomState(seed=42).permuation(subjects, random_state=1)"
   ]
  },
  {
   "cell_type": "code",
   "execution_count": null,
   "metadata": {},
   "outputs": [],
   "source": [
    "train_subject = subjects[:int(len(subject) * .7)]\n",
    "val_subject = subjects[int(len(subject) * .7): int(len(subject) * .85)]\n",
    "test_subject = subjects[int(len(subject) * .85):]"
   ]
  },
  {
   "cell_type": "code",
   "execution_count": null,
   "metadata": {},
   "outputs": [],
   "source": [
    "train_df = orig_file_df[orig_file_df.Subject.isin(train_subject)]\n",
    "val_df = orig_file_df[orig_file_df.Subject.isin(val_subject)]\n",
    "test_df = orig_file_df[orig_file_df.Subject.isin(test_subject)]\n",
    "\n",
    "print('Train shape: {}, val shape: {}, test shape: {}'.format(tran_df.shape, val_df.shape, test_df.shape))\n"
   ]
  },
  {
   "cell_type": "code",
   "execution_count": null,
   "metadata": {},
   "outputs": [],
   "source": [
    "orig_file_name = arguments.orig_file.split('.')[0]\n",
    "train_df.to_csv(orig_file_name + 'train.tsv', sep='\\t')\n",
    "val_df.to_csv(orig_file_name + 'val.tsv', sep='\\t')\n",
    "test_df.to_csv(orig_file_name + 'test.tsv', sep='\\t')"
   ]
  },
  {
   "cell_type": "code",
   "execution_count": null,
   "metadata": {},
   "outputs": [],
   "source": [
    "import pandas as pd\n",
    "import nibabel as nib\n",
    "import os\n",
    "import numpy as np\n",
    "import matplotlib.pyplot as plt\n",
    "from nilearn import image\n",
    "import ants\n",
    "from datetime import datetime, timedelta\n",
    "import pydicom as dicom\n",
    "import pickle\n",
    "import matplotlib.image as mpimg\n",
    "from collections import defaultdict, Counter\n",
    "from scipy import stats\n",
    "\n",
    "pd.set_option('display.max_colwidth', None)\n",
    "pd.set_option('display.max_columns', None)"
   ]
  },
  {
   "cell_type": "code",
   "execution_count": null,
   "metadata": {},
   "outputs": [],
   "source": [
    "f1 = '/gpfs/data/razavianlab/data/mri/nyu/barlow_bids_t1_preprocess_lin/subjects/sub-0a2b22da7f004536adef5ac670d443c2/ses-184837540961/t1_linear/sub-0a2b22da7f004536adef5ac670d443c2_ses-184837540961_20111111-SAG_MPR-2_T1w_space-MNI152NLin2009cSym_desc-Crop_res-1x1x1_T1w.nii.gz'\n",
    "f2 = '/gpfs/data/razavianlab/data/mri/nyu/barlow_bids_t1_preprocess_lin/subjects/sub-0a2b22da7f004536adef5ac670d443c2/ses-184837540961/t1_linear/sub-0a2b22da7f004536adef5ac670d443c2_ses-184837540961_20111111-SAG_MPR-2_T1w_space-MNI152NLin2009cSym_res-1x1x1_affine.mat'\n",
    "f3 = '/gpfs/data/razavianlab/data/mri/nyu/barlow_bids_t1_preprocess_lin/subjects/sub-0a2b22da7f004536adef5ac670d443c2/ses-184837540961/t1_linear/sub-0a2b22da7f004536adef5ac670d443c2_ses-184837540961_20111111-SAG_MPR-2_T1w_space-MNI152NLin2009cSym_res-1x1x1_T1w.nii.gz'"
   ]
  },
  {
   "cell_type": "code",
   "execution_count": null,
   "metadata": {},
   "outputs": [],
   "source": [
    "# cropped\n",
    "file = nib.load(f1)\n",
    "img = file.get_fdata()\n",
    "plt.imshow(img[:,:,100], cmap='gray')\n",
    "img.shape"
   ]
  },
  {
   "cell_type": "code",
   "execution_count": null,
   "metadata": {},
   "outputs": [],
   "source": [
    "# not cropped\n",
    "\n",
    "file = nib.load(f3)\n",
    "img = file.get_fdata()\n",
    "plt.imshow(img[:,:,100], cmap='gray')\n",
    "img.shape"
   ]
  },
  {
   "cell_type": "code",
   "execution_count": null,
   "metadata": {},
   "outputs": [],
   "source": [
    "import torch"
   ]
  },
  {
   "cell_type": "code",
   "execution_count": null,
   "metadata": {},
   "outputs": [],
   "source": [
    "best_model_dir = '/gpfs/home/lc3424/capstone/2021_dementia/lc3424_workspace/experiments/20211102/saved_model/'\n",
    "model_name = 'age_expansion_8'\n",
    "pretrained_dict = torch.load(best_model_dir+model_name + '_model_low_loss.pth.tar',map_location='cpu')['state_dict']\n",
    "pretrained_dict = {k[6:]: v for k, v in pretrained_dict.items() if 'classifier.classifier.LinearClassifier' not in k}\n",
    "pretrained_dict.keys()"
   ]
  },
  {
   "cell_type": "code",
   "execution_count": null,
   "metadata": {},
   "outputs": [],
   "source": [
    "fc = ['classifier.classifier.LinearClassifier', 'classifier.classifier.LinearClassifier2']"
   ]
  },
  {
   "cell_type": "code",
   "execution_count": null,
   "metadata": {},
   "outputs": [],
   "source": [
    "d = pickle.load(open('res.pkl', 'rb'))\n",
    "d.keys()"
   ]
  },
  {
   "cell_type": "code",
   "execution_count": null,
   "metadata": {},
   "outputs": [],
   "source": [
    "res = d['res']\n",
    "out = d['out']"
   ]
  },
  {
   "cell_type": "code",
   "execution_count": null,
   "metadata": {},
   "outputs": [],
   "source": [
    "label = np.argmax(out, axis=1)\n",
    "label"
   ]
  },
  {
   "cell_type": "code",
   "execution_count": null,
   "metadata": {},
   "outputs": [],
   "source": [
    "# res.drop('Unnamed: 0', axis=1, inplace=True)\n",
    "res['label_pred'] = label\n",
    "res[['score_0', 'score_1', 'score_2']] = out\n",
    "# res.drop('Label', axis=1, inplace=True)\n",
    "res"
   ]
  },
  {
   "cell_type": "code",
   "execution_count": null,
   "metadata": {},
   "outputs": [],
   "source": [
    "res.label_pred.value_counts()"
   ]
  },
  {
   "cell_type": "code",
   "execution_count": null,
   "metadata": {},
   "outputs": [],
   "source": [
    "res.to_csv('linear_crop_label_predict.tsv', index=False, sep='\\t')"
   ]
  },
  {
   "cell_type": "markdown",
   "metadata": {},
   "source": [
    "# Precision-recall Curve"
   ]
  },
  {
   "cell_type": "code",
   "execution_count": 49,
   "metadata": {},
   "outputs": [],
   "source": [
    "import pandas as pd\n",
    "import argparse\n",
    "import numpy as np\n",
    "import pickle\n",
    "from sklearn.metrics import precision_recall_curve\n",
    "import matplotlib.pyplot as plt"
   ]
  },
  {
   "cell_type": "code",
   "execution_count": 73,
   "metadata": {},
   "outputs": [],
   "source": [
    "def pr_curve(file_name, c='AD'):\n",
    "    def softmax(a, axis=None):\n",
    "        \"\"\"\n",
    "        Computes exp(a)/sumexp(a); relies on scipy logsumexp implementation.\n",
    "        :param a: ndarray/tensor\n",
    "        :param axis: axis to sum over; default (None) sums over everything\n",
    "        \"\"\"\n",
    "        from scipy.special import logsumexp\n",
    "        lse = logsumexp(a, axis=axis)  # this reduces along axis\n",
    "        if axis is not None:\n",
    "            lse = np.expand_dims(lse, axis)  # restore that axis for subtraction\n",
    "        return np.exp(a - lse)\n",
    "\n",
    "    inp = pickle.load(open(file_name, 'rb'))\n",
    "    # inp['out'] = softmax(inp['out'], axis=1)\n",
    "    df2 = pd.concat([inp['res'], pd.DataFrame(inp['out'], columns=['CN', 'MCI', 'AD'])], axis=1)\n",
    "    c_num = 0\n",
    "    if c == 'AD':\n",
    "        c_num = 2\n",
    "    elif c == 'MCI':\n",
    "        c_num = 1\n",
    "    elif c == 'CN':\n",
    "        c_num = 0\n",
    "    else:\n",
    "        raise Exception('exception')\n",
    "\n",
    "    p, r, _ = precision_recall_curve((df2.Label.to_numpy() == c_num).astype(int), df2[c].to_numpy())\n",
    "    plt.plot(r, p, lw=2, label=c)\n",
    "\n",
    "def pr_curve_aggregate(file_name):\n",
    "    for c in ['CN', 'MCI', 'AD']:\n",
    "        pr_curve(file_name, c)\n",
    "    plt.legend(loc=\"best\")\n",
    "    plt.ylabel('Precision')\n",
    "    plt.xlabel('Recall')\n",
    "    plt.title(\"Precision-recall curve for {}\".format(\" \".join(file_name.split('/')[-1].split('.')[0].split('_')[1:])))\n",
    "    plt.savefig(\"figures/precision_recall_curve_{}.png\".format(\"_\".join(file_name.split('/')[-1].split('.')[0].split('_')[1:])), facecolor='white')\n",
    "    plt.show()"
   ]
  },
  {
   "cell_type": "code",
   "execution_count": null,
   "metadata": {},
   "outputs": [],
   "source": []
  },
  {
   "cell_type": "code",
   "execution_count": 76,
   "metadata": {},
   "outputs": [
    {
     "data": {
      "image/png": "[encoded data removed]",
      "text/plain": [
       "<Figure size 432x288 with 1 Axes>"
      ]
     },
     "metadata": {
      "needs_background": "light"
     },
     "output_type": "display_data"
    }
   ],
   "source": [
    "file_name = '/gpfs/home/lc3424/capstone/2021_dementia/lc3424_workspace/experiments/20211102/res_volume_finetune.pkl'\n",
    "pr_curve_aggregate(file_name)"
   ]
  },
  {
   "cell_type": "code",
   "execution_count": null,
   "metadata": {},
   "outputs": [],
   "source": []
  }
 ],
 "metadata": {
  "interpreter": {
   "hash": "c85656c7385884747cb8f52916e2246eb6dcd29e79c7ad60c37da3d8b924a1f5"
  },
  "kernelspec": {
   "display_name": "Python 3.6.13 64-bit ('env_gpu_py36': conda)",
   "language": "python",
   "name": "python3"
  },
  "language_info": {
   "codemirror_mode": {
    "name": "ipython",
    "version": 3
   },
   "file_extension": ".py",
   "mimetype": "text/x-python",
   "name": "python",
   "nbconvert_exporter": "python",
   "pygments_lexer": "ipython3",
   "version": "3.9.5"
  },
  "orig_nbformat": 4
 },
 "nbformat": 4,
 "nbformat_minor": 2
}
