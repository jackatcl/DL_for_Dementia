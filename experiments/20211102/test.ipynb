{
 "cells": [
  {
   "cell_type": "code",
   "execution_count": null,
   "metadata": {},
   "outputs": [],
   "source": [
    "import pandas as pd\n",
    "import argparse\n",
    "import numpy as np\n",
    "import pickle\n",
    "\n",
    "orig_file = \"/gpfs/home/lc3424/capstone/2021_dementia/lc3424_workspace/experiments/20211102/volume_label_with_file_path_with_age_20211102.tsv\"\n",
    "\n",
    "orig_file_df = pd.read_csv(orig_file, sep='\\t', index_col=0)\n",
    "orig_file_df\n"
   ]
  },
  {
   "cell_type": "code",
   "execution_count": null,
   "metadata": {},
   "outputs": [],
   "source": [
    "subjects = list(set(orig_file_df.Subject.to_list()))\n",
    "len(subjects)"
   ]
  },
  {
   "cell_type": "code",
   "execution_count": null,
   "metadata": {},
   "outputs": [],
   "source": [
    "subjects = np.random.RandomState(seed=42).permuation(subjects, random_state=1)"
   ]
  },
  {
   "cell_type": "code",
   "execution_count": null,
   "metadata": {},
   "outputs": [],
   "source": [
    "train_subject = subjects[:int(len(subject) * .7)]\n",
    "val_subject = subjects[int(len(subject) * .7): int(len(subject) * .85)]\n",
    "test_subject = subjects[int(len(subject) * .85):]"
   ]
  },
  {
   "cell_type": "code",
   "execution_count": null,
   "metadata": {},
   "outputs": [],
   "source": [
    "train_df = orig_file_df[orig_file_df.Subject.isin(train_subject)]\n",
    "val_df = orig_file_df[orig_file_df.Subject.isin(val_subject)]\n",
    "test_df = orig_file_df[orig_file_df.Subject.isin(test_subject)]\n",
    "\n",
    "print('Train shape: {}, val shape: {}, test shape: {}'.format(tran_df.shape, val_df.shape, test_df.shape))\n"
   ]
  },
  {
   "cell_type": "code",
   "execution_count": null,
   "metadata": {},
   "outputs": [],
   "source": [
    "orig_file_name = arguments.orig_file.split('.')[0]\n",
    "train_df.to_csv(orig_file_name + 'train.tsv', sep='\\t')\n",
    "val_df.to_csv(orig_file_name + 'val.tsv', sep='\\t')\n",
    "test_df.to_csv(orig_file_name + 'test.tsv', sep='\\t')"
   ]
  },
  {
   "cell_type": "code",
   "execution_count": null,
   "metadata": {},
   "outputs": [],
   "source": [
    "import pandas as pd\n",
    "import nibabel as nib\n",
    "import os\n",
    "import numpy as np\n",
    "import matplotlib.pyplot as plt\n",
    "from nilearn import image\n",
    "import ants\n",
    "from datetime import datetime, timedelta\n",
    "import pydicom as dicom\n",
    "import pickle\n",
    "import matplotlib.image as mpimg\n",
    "from collections import defaultdict, Counter\n",
    "from scipy import stats\n",
    "\n",
    "pd.set_option('display.max_colwidth', None)\n",
    "pd.set_option('display.max_columns', None)"
   ]
  },
  {
   "cell_type": "code",
   "execution_count": null,
   "metadata": {},
   "outputs": [],
   "source": [
    "f1 = '/gpfs/data/razavianlab/data/mri/nyu/barlow_bids_t1_preprocess_lin/subjects/sub-0a2b22da7f004536adef5ac670d443c2/ses-184837540961/t1_linear/sub-0a2b22da7f004536adef5ac670d443c2_ses-184837540961_20111111-SAG_MPR-2_T1w_space-MNI152NLin2009cSym_desc-Crop_res-1x1x1_T1w.nii.gz'\n",
    "f2 = '/gpfs/data/razavianlab/data/mri/nyu/barlow_bids_t1_preprocess_lin/subjects/sub-0a2b22da7f004536adef5ac670d443c2/ses-184837540961/t1_linear/sub-0a2b22da7f004536adef5ac670d443c2_ses-184837540961_20111111-SAG_MPR-2_T1w_space-MNI152NLin2009cSym_res-1x1x1_affine.mat'\n",
    "f3 = '/gpfs/data/razavianlab/data/mri/nyu/barlow_bids_t1_preprocess_lin/subjects/sub-0a2b22da7f004536adef5ac670d443c2/ses-184837540961/t1_linear/sub-0a2b22da7f004536adef5ac670d443c2_ses-184837540961_20111111-SAG_MPR-2_T1w_space-MNI152NLin2009cSym_res-1x1x1_T1w.nii.gz'"
   ]
  },
  {
   "cell_type": "code",
   "execution_count": null,
   "metadata": {},
   "outputs": [],
   "source": [
    "# cropped\n",
    "file = nib.load(f1)\n",
    "img = file.get_fdata()\n",
    "plt.imshow(img[:,:,100], cmap='gray')\n",
    "img.shape"
   ]
  },
  {
   "cell_type": "code",
   "execution_count": null,
   "metadata": {},
   "outputs": [],
   "source": [
    "# not cropped\n",
    "\n",
    "file = nib.load(f3)\n",
    "img = file.get_fdata()\n",
    "plt.imshow(img[:,:,100], cmap='gray')\n",
    "img.shape"
   ]
  },
  {
   "cell_type": "code",
   "execution_count": null,
   "metadata": {},
   "outputs": [],
   "source": [
    "import torch"
   ]
  },
  {
   "cell_type": "code",
   "execution_count": null,
   "metadata": {},
   "outputs": [],
   "source": [
    "best_model_dir = '/gpfs/home/lc3424/capstone/2021_dementia/lc3424_workspace/experiments/20211102/saved_model/'\n",
    "model_name = 'age_expansion_8'\n",
    "pretrained_dict = torch.load(best_model_dir+model_name + '_model_low_loss.pth.tar',map_location='cpu')['state_dict']\n",
    "pretrained_dict = {k[6:]: v for k, v in pretrained_dict.items() if 'classifier.classifier.LinearClassifier' not in k}\n",
    "pretrained_dict.keys()"
   ]
  },
  {
   "cell_type": "code",
   "execution_count": null,
   "metadata": {},
   "outputs": [],
   "source": [
    "fc = ['classifier.classifier.LinearClassifier', 'classifier.classifier.LinearClassifier2']"
   ]
  },
  {
   "cell_type": "code",
   "execution_count": null,
   "metadata": {},
   "outputs": [],
   "source": [
    "d = pickle.load(open('res.pkl', 'rb'))\n",
    "d.keys()"
   ]
  },
  {
   "cell_type": "code",
   "execution_count": null,
   "metadata": {},
   "outputs": [],
   "source": [
    "res = d['res']\n",
    "out = d['out']"
   ]
  },
  {
   "cell_type": "code",
   "execution_count": null,
   "metadata": {},
   "outputs": [],
   "source": [
    "label = np.argmax(out, axis=1)\n",
    "label"
   ]
  },
  {
   "cell_type": "code",
   "execution_count": null,
   "metadata": {},
   "outputs": [],
   "source": [
    "# res.drop('Unnamed: 0', axis=1, inplace=True)\n",
    "res['label_pred'] = label\n",
    "res[['score_0', 'score_1', 'score_2']] = out\n",
    "# res.drop('Label', axis=1, inplace=True)\n",
    "res"
   ]
  },
  {
   "cell_type": "code",
   "execution_count": null,
   "metadata": {},
   "outputs": [],
   "source": [
    "res.label_pred.value_counts()"
   ]
  },
  {
   "cell_type": "code",
   "execution_count": null,
   "metadata": {},
   "outputs": [],
   "source": [
    "res.to_csv('linear_crop_label_predict.tsv', index=False, sep='\\t')"
   ]
  },
  {
   "cell_type": "markdown",
   "metadata": {},
   "source": [
    "# Precision-recall Curve"
   ]
  },
  {
   "cell_type": "code",
   "execution_count": 1,
   "metadata": {},
   "outputs": [
    {
     "name": "stderr",
     "output_type": "stream",
     "text": [
      "Matplotlib created a temporary config/cache directory at /tmp/matplotlib-cdljzp9u because the default path (/gpfs/home/lc3424/.config/matplotlib) is not a writable directory; it is highly recommended to set the MPLCONFIGDIR environment variable to a writable directory, in particular to speed up the import of Matplotlib and to better support multiprocessing.\n"
     ]
    }
   ],
   "source": [
    "import pandas as pd\n",
    "import argparse\n",
    "import numpy as np\n",
    "import pickle\n",
    "from sklearn.metrics import precision_recall_curve\n",
    "import matplotlib.pyplot as plt"
   ]
  },
  {
   "cell_type": "code",
   "execution_count": 2,
   "metadata": {},
   "outputs": [],
   "source": [
    "def pr_curve(file_name, c='AD'):\n",
    "    def softmax(a, axis=None):\n",
    "        \"\"\"\n",
    "        Computes exp(a)/sumexp(a); relies on scipy logsumexp implementation.\n",
    "        :param a: ndarray/tensor\n",
    "        :param axis: axis to sum over; default (None) sums over everything\n",
    "        \"\"\"\n",
    "        from scipy.special import logsumexp\n",
    "        lse = logsumexp(a, axis=axis)  # this reduces along axis\n",
    "        if axis is not None:\n",
    "            lse = np.expand_dims(lse, axis)  # restore that axis for subtraction\n",
    "        return np.exp(a - lse)\n",
    "\n",
    "    inp = pickle.load(open(file_name, 'rb'))\n",
    "    # inp['out'] = softmax(inp['out'], axis=1)\n",
    "    df2 = pd.concat([inp['res'], pd.DataFrame(inp['out'], columns=['CN', 'MCI', 'AD'])], axis=1)\n",
    "    c_num = 0\n",
    "    if c == 'AD':\n",
    "        c_num = 2\n",
    "    elif c == 'MCI':\n",
    "        c_num = 1\n",
    "    elif c == 'CN':\n",
    "        c_num = 0\n",
    "    else:\n",
    "        raise Exception('exception')\n",
    "\n",
    "    p, r, _ = precision_recall_curve((df2.Label.to_numpy() == c_num).astype(int), df2[c].to_numpy())\n",
    "    plt.plot(r, p, lw=2, label=c)\n",
    "\n",
    "def pr_curve_aggregate(file_name):\n",
    "    for c in ['CN', 'MCI', 'AD']:\n",
    "        pr_curve(file_name, c)\n",
    "    plt.legend(loc=\"best\")\n",
    "    plt.ylabel('Precision')\n",
    "    plt.xlabel('Recall')\n",
    "    plt.title(\"Precision-recall curve for {}\".format(\" \".join(file_name.split('/')[-1].split('.')[0].split('_')[1:])))\n",
    "    plt.savefig(\"figures/precision_recall_curve_{}.png\".format(\"_\".join(file_name.split('/')[-1].split('.')[0].split('_')[1:])), facecolor='white')\n",
    "    plt.show()"
   ]
  },
  {
   "cell_type": "code",
   "execution_count": null,
   "metadata": {},
   "outputs": [],
   "source": []
  },
  {
   "cell_type": "code",
   "execution_count": 3,
   "metadata": {},
   "outputs": [
    {
     "data": {
      "image/png": "[encoded data removed]",
      "text/plain": [
       "<Figure size 432x288 with 1 Axes>"
      ]
     },
     "metadata": {
      "needs_background": "light"
     },
     "output_type": "display_data"
    }
   ],
   "source": [
    "file_name = '/gpfs/home/lc3424/capstone/2021_dementia/lc3424_workspace/experiments/20211102/res_flair_finetune.pkl'\n",
    "pr_curve_aggregate(file_name)"
   ]
  },
  {
   "cell_type": "code",
   "execution_count": 7,
   "metadata": {},
   "outputs": [
    {
     "data": {
      "text/html": [
       "<div>\n",
       "<style scoped>\n",
       "    .dataframe tbody tr th:only-of-type {\n",
       "        vertical-align: middle;\n",
       "    }\n",
       "\n",
       "    .dataframe tbody tr th {\n",
       "        vertical-align: top;\n",
       "    }\n",
       "\n",
       "    .dataframe thead th {\n",
       "        text-align: right;\n",
       "    }\n",
       "</style>\n",
       "<table border=\"1\" class=\"dataframe\">\n",
       "  <thead>\n",
       "    <tr style=\"text-align: right;\">\n",
       "      <th></th>\n",
       "      <th>Session</th>\n",
       "      <th>Subject</th>\n",
       "      <th>Label</th>\n",
       "      <th>Age</th>\n",
       "      <th>Path</th>\n",
       "      <th>CN</th>\n",
       "      <th>MCI</th>\n",
       "      <th>AD</th>\n",
       "    </tr>\n",
       "  </thead>\n",
       "  <tbody>\n",
       "    <tr>\n",
       "      <th>0</th>\n",
       "      <td>100705385639</td>\n",
       "      <td>4c1833793b70449da1017a8eb7592b12</td>\n",
       "      <td>2</td>\n",
       "      <td>77</td>\n",
       "      <td>/gpfs/data/razavianlab/data/mri/nyu/barlow_bid...</td>\n",
       "      <td>-1.470156</td>\n",
       "      <td>1.710143</td>\n",
       "      <td>-0.502922</td>\n",
       "    </tr>\n",
       "    <tr>\n",
       "      <th>1</th>\n",
       "      <td>100705385639</td>\n",
       "      <td>4c1833793b70449da1017a8eb7592b12</td>\n",
       "      <td>2</td>\n",
       "      <td>77</td>\n",
       "      <td>/gpfs/data/razavianlab/data/mri/nyu/barlow_bid...</td>\n",
       "      <td>-1.463283</td>\n",
       "      <td>1.706425</td>\n",
       "      <td>-0.505954</td>\n",
       "    </tr>\n",
       "    <tr>\n",
       "      <th>2</th>\n",
       "      <td>102180780180</td>\n",
       "      <td>20d22e8c23a942b8aec67e25c4fbe848</td>\n",
       "      <td>1</td>\n",
       "      <td>63</td>\n",
       "      <td>/gpfs/data/razavianlab/data/mri/nyu/barlow_bid...</td>\n",
       "      <td>-1.041704</td>\n",
       "      <td>1.407455</td>\n",
       "      <td>-0.588134</td>\n",
       "    </tr>\n",
       "    <tr>\n",
       "      <th>3</th>\n",
       "      <td>102180780180</td>\n",
       "      <td>20d22e8c23a942b8aec67e25c4fbe848</td>\n",
       "      <td>1</td>\n",
       "      <td>63</td>\n",
       "      <td>/gpfs/data/razavianlab/data/mri/nyu/barlow_bid...</td>\n",
       "      <td>-1.245616</td>\n",
       "      <td>1.379458</td>\n",
       "      <td>-0.320191</td>\n",
       "    </tr>\n",
       "    <tr>\n",
       "      <th>4</th>\n",
       "      <td>102303089179</td>\n",
       "      <td>20d22e8c23a942b8aec67e25c4fbe848</td>\n",
       "      <td>1</td>\n",
       "      <td>63</td>\n",
       "      <td>/gpfs/data/razavianlab/data/mri/nyu/barlow_bid...</td>\n",
       "      <td>-1.112956</td>\n",
       "      <td>1.389312</td>\n",
       "      <td>-0.483779</td>\n",
       "    </tr>\n",
       "    <tr>\n",
       "      <th>...</th>\n",
       "      <td>...</td>\n",
       "      <td>...</td>\n",
       "      <td>...</td>\n",
       "      <td>...</td>\n",
       "      <td>...</td>\n",
       "      <td>...</td>\n",
       "      <td>...</td>\n",
       "      <td>...</td>\n",
       "    </tr>\n",
       "    <tr>\n",
       "      <th>476</th>\n",
       "      <td>992233082673</td>\n",
       "      <td>82698a601fdb430f88b412b401aa12b5</td>\n",
       "      <td>0</td>\n",
       "      <td>56</td>\n",
       "      <td>/gpfs/data/razavianlab/data/mri/nyu/barlow_bid...</td>\n",
       "      <td>1.426278</td>\n",
       "      <td>-0.232635</td>\n",
       "      <td>-1.292418</td>\n",
       "    </tr>\n",
       "    <tr>\n",
       "      <th>477</th>\n",
       "      <td>992233082673</td>\n",
       "      <td>82698a601fdb430f88b412b401aa12b5</td>\n",
       "      <td>0</td>\n",
       "      <td>56</td>\n",
       "      <td>/gpfs/data/razavianlab/data/mri/nyu/barlow_bid...</td>\n",
       "      <td>1.268008</td>\n",
       "      <td>-0.144171</td>\n",
       "      <td>-1.192954</td>\n",
       "    </tr>\n",
       "    <tr>\n",
       "      <th>478</th>\n",
       "      <td>992384850744</td>\n",
       "      <td>9d24c408174946f690f9bcabadfadf6e</td>\n",
       "      <td>0</td>\n",
       "      <td>75</td>\n",
       "      <td>/gpfs/data/razavianlab/data/mri/nyu/barlow_bid...</td>\n",
       "      <td>1.397451</td>\n",
       "      <td>0.216924</td>\n",
       "      <td>-1.740484</td>\n",
       "    </tr>\n",
       "    <tr>\n",
       "      <th>479</th>\n",
       "      <td>992384850744</td>\n",
       "      <td>9d24c408174946f690f9bcabadfadf6e</td>\n",
       "      <td>0</td>\n",
       "      <td>75</td>\n",
       "      <td>/gpfs/data/razavianlab/data/mri/nyu/barlow_bid...</td>\n",
       "      <td>1.500988</td>\n",
       "      <td>0.204986</td>\n",
       "      <td>-1.827755</td>\n",
       "    </tr>\n",
       "    <tr>\n",
       "      <th>480</th>\n",
       "      <td>992384850744</td>\n",
       "      <td>9d24c408174946f690f9bcabadfadf6e</td>\n",
       "      <td>0</td>\n",
       "      <td>75</td>\n",
       "      <td>/gpfs/data/razavianlab/data/mri/nyu/barlow_bid...</td>\n",
       "      <td>1.511513</td>\n",
       "      <td>0.228535</td>\n",
       "      <td>-1.874684</td>\n",
       "    </tr>\n",
       "  </tbody>\n",
       "</table>\n",
       "<p>481 rows × 8 columns</p>\n",
       "</div>"
      ],
      "text/plain": [
       "          Session                           Subject  Label  Age  \\\n",
       "0    100705385639  4c1833793b70449da1017a8eb7592b12      2   77   \n",
       "1    100705385639  4c1833793b70449da1017a8eb7592b12      2   77   \n",
       "2    102180780180  20d22e8c23a942b8aec67e25c4fbe848      1   63   \n",
       "3    102180780180  20d22e8c23a942b8aec67e25c4fbe848      1   63   \n",
       "4    102303089179  20d22e8c23a942b8aec67e25c4fbe848      1   63   \n",
       "..            ...                               ...    ...  ...   \n",
       "476  992233082673  82698a601fdb430f88b412b401aa12b5      0   56   \n",
       "477  992233082673  82698a601fdb430f88b412b401aa12b5      0   56   \n",
       "478  992384850744  9d24c408174946f690f9bcabadfadf6e      0   75   \n",
       "479  992384850744  9d24c408174946f690f9bcabadfadf6e      0   75   \n",
       "480  992384850744  9d24c408174946f690f9bcabadfadf6e      0   75   \n",
       "\n",
       "                                                  Path        CN       MCI  \\\n",
       "0    /gpfs/data/razavianlab/data/mri/nyu/barlow_bid... -1.470156  1.710143   \n",
       "1    /gpfs/data/razavianlab/data/mri/nyu/barlow_bid... -1.463283  1.706425   \n",
       "2    /gpfs/data/razavianlab/data/mri/nyu/barlow_bid... -1.041704  1.407455   \n",
       "3    /gpfs/data/razavianlab/data/mri/nyu/barlow_bid... -1.245616  1.379458   \n",
       "4    /gpfs/data/razavianlab/data/mri/nyu/barlow_bid... -1.112956  1.389312   \n",
       "..                                                 ...       ...       ...   \n",
       "476  /gpfs/data/razavianlab/data/mri/nyu/barlow_bid...  1.426278 -0.232635   \n",
       "477  /gpfs/data/razavianlab/data/mri/nyu/barlow_bid...  1.268008 -0.144171   \n",
       "478  /gpfs/data/razavianlab/data/mri/nyu/barlow_bid...  1.397451  0.216924   \n",
       "479  /gpfs/data/razavianlab/data/mri/nyu/barlow_bid...  1.500988  0.204986   \n",
       "480  /gpfs/data/razavianlab/data/mri/nyu/barlow_bid...  1.511513  0.228535   \n",
       "\n",
       "           AD  \n",
       "0   -0.502922  \n",
       "1   -0.505954  \n",
       "2   -0.588134  \n",
       "3   -0.320191  \n",
       "4   -0.483779  \n",
       "..        ...  \n",
       "476 -1.292418  \n",
       "477 -1.192954  \n",
       "478 -1.740484  \n",
       "479 -1.827755  \n",
       "480 -1.874684  \n",
       "\n",
       "[481 rows x 8 columns]"
      ]
     },
     "execution_count": 7,
     "metadata": {},
     "output_type": "execute_result"
    }
   ],
   "source": [
    "inp = pickle.load(open(file_name, 'rb'))\n",
    "# inp['out'] = softmax(inp['out'], axis=1)\n",
    "df2 = pd.concat([inp['res'], pd.DataFrame(inp['out'], columns=['CN', 'MCI', 'AD'])], axis=1)\n",
    "df2"
   ]
  },
  {
   "cell_type": "code",
   "execution_count": 8,
   "metadata": {},
   "outputs": [
    {
     "data": {
      "text/plain": [
       "1    233\n",
       "0    205\n",
       "2     43\n",
       "Name: Label, dtype: int64"
      ]
     },
     "execution_count": 8,
     "metadata": {},
     "output_type": "execute_result"
    }
   ],
   "source": [
    "df2.Label.value_counts()"
   ]
  },
  {
   "cell_type": "code",
   "execution_count": 1,
   "metadata": {},
   "outputs": [],
   "source": [
    "import pandas as pd\n",
    "\n",
    "df = pd.read_csv('/gpfs/home/lc3424/capstone/2021_dementia/lc3424_workspace/experiments/20211102/t1_flair_file_match_with_reg.tsv', sep='\\t')\n",
    "df.Label = df.Label.astype(int)\n",
    "df\n",
    "df.to_csv('/gpfs/home/lc3424/capstone/2021_dementia/lc3424_workspace/experiments/20211102/t1_flair_file_match_with_reg.tsv', index=False, sep='\\t')"
   ]
  },
  {
   "cell_type": "code",
   "execution_count": 4,
   "metadata": {},
   "outputs": [
    {
     "data": {
      "text/plain": [
       "0    224\n",
       "1    142\n",
       "2     32\n",
       "Name: Label, dtype: int64"
      ]
     },
     "execution_count": 4,
     "metadata": {},
     "output_type": "execute_result"
    }
   ],
   "source": [
    "df = pd.read_csv('/gpfs/home/lc3424/capstone/2021_dementia/lc3424_workspace/experiments/20211102/t1_flair_file_match_with_reg_test.tsv', sep='\\t')\n",
    "df.Label.value_counts()"
   ]
  },
  {
   "cell_type": "code",
   "execution_count": 43,
   "metadata": {},
   "outputs": [
    {
     "name": "stdout",
     "output_type": "stream",
     "text": [
      "(2306, 5) (2050, 2)\n"
     ]
    }
   ],
   "source": [
    "import pandas as pd\n",
    "import argparse\n",
    "import numpy as np\n",
    "import pickle\n",
    "\n",
    "t1_path_label_file = '/gpfs/home/lc3424/capstone/2021_dementia/lc3424_workspace/experiments/20211102/label_and_file_path/20211206/t1_train.tsv'\n",
    "flair_path_label_file = '/gpfs/home/lc3424/capstone/2021_dementia/lc3424_workspace/experiments/20211102/label_and_file_path/20211206/flair_train.tsv'\n",
    "t1_subject_tsv = pd.read_csv(t1_path_label_file, sep='\\t').loc[:, ['Session', 'Label', 'Subject', 'Age', 'Path']]\n",
    "t1_subject_tsv.rename({'Path' : 't1_path'}, axis=1, inplace=True)\n",
    "flair_subject_tsv = pd.read_csv(flair_path_label_file, sep='\\t').loc[:, ['Session', 'Path']]\n",
    "flair_subject_tsv.rename({'Path' : 'flair_path'}, axis=1, inplace=True)\n",
    "print(t1_subject_tsv.shape, flair_subject_tsv.shape)\n",
    "subject_tsv = t1_subject_tsv.merge(flair_subject_tsv, how='left', on=['Session'])\n",
    "ssubject_tsv = ubject_tsv[~subject_tsv.isna().any(axis=1)].drop_duplicates()"
   ]
  },
  {
   "cell_type": "code",
   "execution_count": 44,
   "metadata": {},
   "outputs": [
    {
     "data": {
      "text/html": [
       "<div>\n",
       "<style scoped>\n",
       "    .dataframe tbody tr th:only-of-type {\n",
       "        vertical-align: middle;\n",
       "    }\n",
       "\n",
       "    .dataframe tbody tr th {\n",
       "        vertical-align: top;\n",
       "    }\n",
       "\n",
       "    .dataframe thead th {\n",
       "        text-align: right;\n",
       "    }\n",
       "</style>\n",
       "<table border=\"1\" class=\"dataframe\">\n",
       "  <thead>\n",
       "    <tr style=\"text-align: right;\">\n",
       "      <th></th>\n",
       "      <th>Session</th>\n",
       "      <th>Label</th>\n",
       "      <th>Subject</th>\n",
       "      <th>Age</th>\n",
       "      <th>t1_path</th>\n",
       "      <th>flair_path</th>\n",
       "    </tr>\n",
       "  </thead>\n",
       "  <tbody>\n",
       "    <tr>\n",
       "      <th>101</th>\n",
       "      <td>105420328012</td>\n",
       "      <td>0</td>\n",
       "      <td>3a5efc4cfd3443eeb185797148fc36d9</td>\n",
       "      <td>68</td>\n",
       "      <td>/gpfs/data/razavianlab/data/mri/nyu/barlow_bid...</td>\n",
       "      <td>NaN</td>\n",
       "    </tr>\n",
       "    <tr>\n",
       "      <th>102</th>\n",
       "      <td>105420328012</td>\n",
       "      <td>0</td>\n",
       "      <td>3a5efc4cfd3443eeb185797148fc36d9</td>\n",
       "      <td>68</td>\n",
       "      <td>/gpfs/data/razavianlab/data/mri/nyu/barlow_bid...</td>\n",
       "      <td>NaN</td>\n",
       "    </tr>\n",
       "    <tr>\n",
       "      <th>150</th>\n",
       "      <td>111521726612</td>\n",
       "      <td>0</td>\n",
       "      <td>4c2376d23576483ba1510608923d23a7</td>\n",
       "      <td>68</td>\n",
       "      <td>/gpfs/data/razavianlab/data/mri/nyu/barlow_bid...</td>\n",
       "      <td>NaN</td>\n",
       "    </tr>\n",
       "    <tr>\n",
       "      <th>157</th>\n",
       "      <td>112323879663</td>\n",
       "      <td>0</td>\n",
       "      <td>75acb785672d409e800782126cd12a6a</td>\n",
       "      <td>66</td>\n",
       "      <td>/gpfs/data/razavianlab/data/mri/nyu/barlow_bid...</td>\n",
       "      <td>NaN</td>\n",
       "    </tr>\n",
       "    <tr>\n",
       "      <th>158</th>\n",
       "      <td>112323879663</td>\n",
       "      <td>0</td>\n",
       "      <td>75acb785672d409e800782126cd12a6a</td>\n",
       "      <td>66</td>\n",
       "      <td>/gpfs/data/razavianlab/data/mri/nyu/barlow_bid...</td>\n",
       "      <td>NaN</td>\n",
       "    </tr>\n",
       "    <tr>\n",
       "      <th>...</th>\n",
       "      <td>...</td>\n",
       "      <td>...</td>\n",
       "      <td>...</td>\n",
       "      <td>...</td>\n",
       "      <td>...</td>\n",
       "      <td>...</td>\n",
       "    </tr>\n",
       "    <tr>\n",
       "      <th>3992</th>\n",
       "      <td>848694441792</td>\n",
       "      <td>0</td>\n",
       "      <td>6ae419eccbd14639beaae164e64a3444</td>\n",
       "      <td>78</td>\n",
       "      <td>/gpfs/data/razavianlab/data/mri/nyu/barlow_bid...</td>\n",
       "      <td>NaN</td>\n",
       "    </tr>\n",
       "    <tr>\n",
       "      <th>3997</th>\n",
       "      <td>851909025503</td>\n",
       "      <td>0</td>\n",
       "      <td>ed07725f54f64028867b43681e515dcf</td>\n",
       "      <td>58</td>\n",
       "      <td>/gpfs/data/razavianlab/data/mri/nyu/barlow_bid...</td>\n",
       "      <td>NaN</td>\n",
       "    </tr>\n",
       "    <tr>\n",
       "      <th>3998</th>\n",
       "      <td>851909025503</td>\n",
       "      <td>0</td>\n",
       "      <td>ed07725f54f64028867b43681e515dcf</td>\n",
       "      <td>58</td>\n",
       "      <td>/gpfs/data/razavianlab/data/mri/nyu/barlow_bid...</td>\n",
       "      <td>NaN</td>\n",
       "    </tr>\n",
       "    <tr>\n",
       "      <th>4095</th>\n",
       "      <td>908598147225</td>\n",
       "      <td>0</td>\n",
       "      <td>12191bb2a3a94f5ea8447856800f3257</td>\n",
       "      <td>84</td>\n",
       "      <td>/gpfs/data/razavianlab/data/mri/nyu/barlow_bid...</td>\n",
       "      <td>NaN</td>\n",
       "    </tr>\n",
       "    <tr>\n",
       "      <th>4133</th>\n",
       "      <td>937875619911</td>\n",
       "      <td>1</td>\n",
       "      <td>f7cd8695d72246ff92b2d2e00fa69a7c</td>\n",
       "      <td>76</td>\n",
       "      <td>/gpfs/data/razavianlab/data/mri/nyu/barlow_bid...</td>\n",
       "      <td>NaN</td>\n",
       "    </tr>\n",
       "  </tbody>\n",
       "</table>\n",
       "<p>166 rows × 6 columns</p>\n",
       "</div>"
      ],
      "text/plain": [
       "           Session  Label                           Subject  Age  \\\n",
       "101   105420328012      0  3a5efc4cfd3443eeb185797148fc36d9   68   \n",
       "102   105420328012      0  3a5efc4cfd3443eeb185797148fc36d9   68   \n",
       "150   111521726612      0  4c2376d23576483ba1510608923d23a7   68   \n",
       "157   112323879663      0  75acb785672d409e800782126cd12a6a   66   \n",
       "158   112323879663      0  75acb785672d409e800782126cd12a6a   66   \n",
       "...            ...    ...                               ...  ...   \n",
       "3992  848694441792      0  6ae419eccbd14639beaae164e64a3444   78   \n",
       "3997  851909025503      0  ed07725f54f64028867b43681e515dcf   58   \n",
       "3998  851909025503      0  ed07725f54f64028867b43681e515dcf   58   \n",
       "4095  908598147225      0  12191bb2a3a94f5ea8447856800f3257   84   \n",
       "4133  937875619911      1  f7cd8695d72246ff92b2d2e00fa69a7c   76   \n",
       "\n",
       "                                                t1_path flair_path  \n",
       "101   /gpfs/data/razavianlab/data/mri/nyu/barlow_bid...        NaN  \n",
       "102   /gpfs/data/razavianlab/data/mri/nyu/barlow_bid...        NaN  \n",
       "150   /gpfs/data/razavianlab/data/mri/nyu/barlow_bid...        NaN  \n",
       "157   /gpfs/data/razavianlab/data/mri/nyu/barlow_bid...        NaN  \n",
       "158   /gpfs/data/razavianlab/data/mri/nyu/barlow_bid...        NaN  \n",
       "...                                                 ...        ...  \n",
       "3992  /gpfs/data/razavianlab/data/mri/nyu/barlow_bid...        NaN  \n",
       "3997  /gpfs/data/razavianlab/data/mri/nyu/barlow_bid...        NaN  \n",
       "3998  /gpfs/data/razavianlab/data/mri/nyu/barlow_bid...        NaN  \n",
       "4095  /gpfs/data/razavianlab/data/mri/nyu/barlow_bid...        NaN  \n",
       "4133  /gpfs/data/razavianlab/data/mri/nyu/barlow_bid...        NaN  \n",
       "\n",
       "[166 rows x 6 columns]"
      ]
     },
     "execution_count": 44,
     "metadata": {},
     "output_type": "execute_result"
    }
   ],
   "source": [
    "subject_tsv\n",
    "subject_tsv[subject_tsv.isna().any(axis=1)]"
   ]
  },
  {
   "cell_type": "code",
   "execution_count": 53,
   "metadata": {},
   "outputs": [
    {
     "data": {
      "text/html": [
       "<div>\n",
       "<style scoped>\n",
       "    .dataframe tbody tr th:only-of-type {\n",
       "        vertical-align: middle;\n",
       "    }\n",
       "\n",
       "    .dataframe tbody tr th {\n",
       "        vertical-align: top;\n",
       "    }\n",
       "\n",
       "    .dataframe thead th {\n",
       "        text-align: right;\n",
       "    }\n",
       "</style>\n",
       "<table border=\"1\" class=\"dataframe\">\n",
       "  <thead>\n",
       "    <tr style=\"text-align: right;\">\n",
       "      <th></th>\n",
       "      <th>Session</th>\n",
       "      <th>Label</th>\n",
       "      <th>Subject</th>\n",
       "      <th>Age</th>\n",
       "      <th>t1_path</th>\n",
       "      <th>flair_path</th>\n",
       "    </tr>\n",
       "  </thead>\n",
       "  <tbody>\n",
       "    <tr>\n",
       "      <th>0</th>\n",
       "      <td>100039817943</td>\n",
       "      <td>0</td>\n",
       "      <td>210909b9725245c5a09e052b931447f4</td>\n",
       "      <td>52</td>\n",
       "      <td>/gpfs/data/razavianlab/data/mri/nyu/barlow_bid...</td>\n",
       "      <td>/gpfs/data/razavianlab/data/mri/nyu/barlow_fla...</td>\n",
       "    </tr>\n",
       "    <tr>\n",
       "      <th>1</th>\n",
       "      <td>100039817943</td>\n",
       "      <td>0</td>\n",
       "      <td>210909b9725245c5a09e052b931447f4</td>\n",
       "      <td>52</td>\n",
       "      <td>/gpfs/data/razavianlab/data/mri/nyu/barlow_bid...</td>\n",
       "      <td>/gpfs/data/razavianlab/data/mri/nyu/barlow_fla...</td>\n",
       "    </tr>\n",
       "    <tr>\n",
       "      <th>2</th>\n",
       "      <td>100402864124</td>\n",
       "      <td>0</td>\n",
       "      <td>fc9d3132547b40d88b14b49f22059a7d</td>\n",
       "      <td>58</td>\n",
       "      <td>/gpfs/data/razavianlab/data/mri/nyu/barlow_bid...</td>\n",
       "      <td>/gpfs/data/razavianlab/data/mri/nyu/barlow_fla...</td>\n",
       "    </tr>\n",
       "    <tr>\n",
       "      <th>3</th>\n",
       "      <td>100402864124</td>\n",
       "      <td>0</td>\n",
       "      <td>fc9d3132547b40d88b14b49f22059a7d</td>\n",
       "      <td>58</td>\n",
       "      <td>/gpfs/data/razavianlab/data/mri/nyu/barlow_bid...</td>\n",
       "      <td>/gpfs/data/razavianlab/data/mri/nyu/barlow_fla...</td>\n",
       "    </tr>\n",
       "    <tr>\n",
       "      <th>4</th>\n",
       "      <td>100705385639</td>\n",
       "      <td>2</td>\n",
       "      <td>4c1833793b70449da1017a8eb7592b12</td>\n",
       "      <td>77</td>\n",
       "      <td>/gpfs/data/razavianlab/data/mri/nyu/barlow_bid...</td>\n",
       "      <td>/gpfs/data/razavianlab/data/mri/nyu/barlow_fla...</td>\n",
       "    </tr>\n",
       "    <tr>\n",
       "      <th>...</th>\n",
       "      <td>...</td>\n",
       "      <td>...</td>\n",
       "      <td>...</td>\n",
       "      <td>...</td>\n",
       "      <td>...</td>\n",
       "      <td>...</td>\n",
       "    </tr>\n",
       "    <tr>\n",
       "      <th>4191</th>\n",
       "      <td>998819920173</td>\n",
       "      <td>1</td>\n",
       "      <td>bbc73dd2480442108e5307511a1b9b75</td>\n",
       "      <td>54</td>\n",
       "      <td>/gpfs/data/razavianlab/data/mri/nyu/barlow_bid...</td>\n",
       "      <td>/gpfs/data/razavianlab/data/mri/nyu/barlow_fla...</td>\n",
       "    </tr>\n",
       "    <tr>\n",
       "      <th>4192</th>\n",
       "      <td>998819920173</td>\n",
       "      <td>1</td>\n",
       "      <td>bbc73dd2480442108e5307511a1b9b75</td>\n",
       "      <td>54</td>\n",
       "      <td>/gpfs/data/razavianlab/data/mri/nyu/barlow_bid...</td>\n",
       "      <td>/gpfs/data/razavianlab/data/mri/nyu/barlow_fla...</td>\n",
       "    </tr>\n",
       "    <tr>\n",
       "      <th>4193</th>\n",
       "      <td>998819920173</td>\n",
       "      <td>1</td>\n",
       "      <td>bbc73dd2480442108e5307511a1b9b75</td>\n",
       "      <td>54</td>\n",
       "      <td>/gpfs/data/razavianlab/data/mri/nyu/barlow_bid...</td>\n",
       "      <td>/gpfs/data/razavianlab/data/mri/nyu/barlow_fla...</td>\n",
       "    </tr>\n",
       "    <tr>\n",
       "      <th>4194</th>\n",
       "      <td>999155686841</td>\n",
       "      <td>0</td>\n",
       "      <td>b3ddd61266c842a9b98597579f1054df</td>\n",
       "      <td>56</td>\n",
       "      <td>/gpfs/data/razavianlab/data/mri/nyu/barlow_bid...</td>\n",
       "      <td>/gpfs/data/razavianlab/data/mri/nyu/barlow_fla...</td>\n",
       "    </tr>\n",
       "    <tr>\n",
       "      <th>4195</th>\n",
       "      <td>999155686841</td>\n",
       "      <td>0</td>\n",
       "      <td>b3ddd61266c842a9b98597579f1054df</td>\n",
       "      <td>56</td>\n",
       "      <td>/gpfs/data/razavianlab/data/mri/nyu/barlow_bid...</td>\n",
       "      <td>/gpfs/data/razavianlab/data/mri/nyu/barlow_fla...</td>\n",
       "    </tr>\n",
       "  </tbody>\n",
       "</table>\n",
       "<p>4030 rows × 6 columns</p>\n",
       "</div>"
      ],
      "text/plain": [
       "           Session  Label                           Subject  Age  \\\n",
       "0     100039817943      0  210909b9725245c5a09e052b931447f4   52   \n",
       "1     100039817943      0  210909b9725245c5a09e052b931447f4   52   \n",
       "2     100402864124      0  fc9d3132547b40d88b14b49f22059a7d   58   \n",
       "3     100402864124      0  fc9d3132547b40d88b14b49f22059a7d   58   \n",
       "4     100705385639      2  4c1833793b70449da1017a8eb7592b12   77   \n",
       "...            ...    ...                               ...  ...   \n",
       "4191  998819920173      1  bbc73dd2480442108e5307511a1b9b75   54   \n",
       "4192  998819920173      1  bbc73dd2480442108e5307511a1b9b75   54   \n",
       "4193  998819920173      1  bbc73dd2480442108e5307511a1b9b75   54   \n",
       "4194  999155686841      0  b3ddd61266c842a9b98597579f1054df   56   \n",
       "4195  999155686841      0  b3ddd61266c842a9b98597579f1054df   56   \n",
       "\n",
       "                                                t1_path  \\\n",
       "0     /gpfs/data/razavianlab/data/mri/nyu/barlow_bid...   \n",
       "1     /gpfs/data/razavianlab/data/mri/nyu/barlow_bid...   \n",
       "2     /gpfs/data/razavianlab/data/mri/nyu/barlow_bid...   \n",
       "3     /gpfs/data/razavianlab/data/mri/nyu/barlow_bid...   \n",
       "4     /gpfs/data/razavianlab/data/mri/nyu/barlow_bid...   \n",
       "...                                                 ...   \n",
       "4191  /gpfs/data/razavianlab/data/mri/nyu/barlow_bid...   \n",
       "4192  /gpfs/data/razavianlab/data/mri/nyu/barlow_bid...   \n",
       "4193  /gpfs/data/razavianlab/data/mri/nyu/barlow_bid...   \n",
       "4194  /gpfs/data/razavianlab/data/mri/nyu/barlow_bid...   \n",
       "4195  /gpfs/data/razavianlab/data/mri/nyu/barlow_bid...   \n",
       "\n",
       "                                             flair_path  \n",
       "0     /gpfs/data/razavianlab/data/mri/nyu/barlow_fla...  \n",
       "1     /gpfs/data/razavianlab/data/mri/nyu/barlow_fla...  \n",
       "2     /gpfs/data/razavianlab/data/mri/nyu/barlow_fla...  \n",
       "3     /gpfs/data/razavianlab/data/mri/nyu/barlow_fla...  \n",
       "4     /gpfs/data/razavianlab/data/mri/nyu/barlow_fla...  \n",
       "...                                                 ...  \n",
       "4191  /gpfs/data/razavianlab/data/mri/nyu/barlow_fla...  \n",
       "4192  /gpfs/data/razavianlab/data/mri/nyu/barlow_fla...  \n",
       "4193  /gpfs/data/razavianlab/data/mri/nyu/barlow_fla...  \n",
       "4194  /gpfs/data/razavianlab/data/mri/nyu/barlow_fla...  \n",
       "4195  /gpfs/data/razavianlab/data/mri/nyu/barlow_fla...  \n",
       "\n",
       "[4030 rows x 6 columns]"
      ]
     },
     "execution_count": 53,
     "metadata": {},
     "output_type": "execute_result"
    }
   ],
   "source": []
  },
  {
   "cell_type": "code",
   "execution_count": 50,
   "metadata": {},
   "outputs": [
    {
     "data": {
      "text/plain": [
       "'/gpfs/data/razavianlab/data/mri/nyu/barlow_flair_registered/2097337647-20120107-AX_FLAIR-5_flair_reg.nii.gz'"
      ]
     },
     "execution_count": 50,
     "metadata": {},
     "output_type": "execute_result"
    }
   ],
   "source": [
    "subject_tsv.iloc[0, -1]"
   ]
  },
  {
   "cell_type": "code",
   "execution_count": 51,
   "metadata": {},
   "outputs": [
    {
     "data": {
      "text/plain": [
       "'/gpfs/data/razavianlab/data/mri/nyu/barlow_flair_registered/2097337647-20120107-AX_FLAIR-5a_flair_reg.nii.gz'"
      ]
     },
     "execution_count": 51,
     "metadata": {},
     "output_type": "execute_result"
    }
   ],
   "source": [
    "subject_tsv.iloc[1, -1]"
   ]
  }
 ],
 "metadata": {
  "interpreter": {
   "hash": "c85656c7385884747cb8f52916e2246eb6dcd29e79c7ad60c37da3d8b924a1f5"
  },
  "kernelspec": {
   "display_name": "Python 3.6.13 64-bit ('env_gpu_py36': conda)",
   "language": "python",
   "name": "python3"
  },
  "language_info": {
   "codemirror_mode": {
    "name": "ipython",
    "version": 3
   },
   "file_extension": ".py",
   "mimetype": "text/x-python",
   "name": "python",
   "nbconvert_exporter": "python",
   "pygments_lexer": "ipython3",
   "version": "3.6.13"
  },
  "orig_nbformat": 4
 },
 "nbformat": 4,
 "nbformat_minor": 2
}
