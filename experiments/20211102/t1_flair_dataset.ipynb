{
 "cells": [
  {
   "cell_type": "code",
   "execution_count": 19,
   "metadata": {},
   "outputs": [],
   "source": [
    "import pandas as pd\n",
    "import numpy as np\n",
    "import random"
   ]
  },
  {
   "cell_type": "code",
   "execution_count": 7,
   "metadata": {},
   "outputs": [
    {
     "data": {
      "text/html": [
       "<div>\n",
       "<style scoped>\n",
       "    .dataframe tbody tr th:only-of-type {\n",
       "        vertical-align: middle;\n",
       "    }\n",
       "\n",
       "    .dataframe tbody tr th {\n",
       "        vertical-align: top;\n",
       "    }\n",
       "\n",
       "    .dataframe thead th {\n",
       "        text-align: right;\n",
       "    }\n",
       "</style>\n",
       "<table border=\"1\" class=\"dataframe\">\n",
       "  <thead>\n",
       "    <tr style=\"text-align: right;\">\n",
       "      <th></th>\n",
       "      <th>Session</th>\n",
       "      <th>Subject</th>\n",
       "      <th>Label</th>\n",
       "      <th>Age</th>\n",
       "      <th>Path</th>\n",
       "    </tr>\n",
       "  </thead>\n",
       "  <tbody>\n",
       "    <tr>\n",
       "      <th>0</th>\n",
       "      <td>100039817943</td>\n",
       "      <td>210909b9725245c5a09e052b931447f4</td>\n",
       "      <td>0</td>\n",
       "      <td>52</td>\n",
       "      <td>/gpfs/data/razavianlab/data/mri/nyu/barlow_bid...</td>\n",
       "    </tr>\n",
       "    <tr>\n",
       "      <th>1</th>\n",
       "      <td>100402864124</td>\n",
       "      <td>fc9d3132547b40d88b14b49f22059a7d</td>\n",
       "      <td>0</td>\n",
       "      <td>58</td>\n",
       "      <td>/gpfs/data/razavianlab/data/mri/nyu/barlow_bid...</td>\n",
       "    </tr>\n",
       "    <tr>\n",
       "      <th>2</th>\n",
       "      <td>100402864124</td>\n",
       "      <td>fc9d3132547b40d88b14b49f22059a7d</td>\n",
       "      <td>0</td>\n",
       "      <td>58</td>\n",
       "      <td>/gpfs/data/razavianlab/data/mri/nyu/barlow_bid...</td>\n",
       "    </tr>\n",
       "    <tr>\n",
       "      <th>3</th>\n",
       "      <td>100561623079</td>\n",
       "      <td>19a7816500184206baae665fb54d9486</td>\n",
       "      <td>1</td>\n",
       "      <td>64</td>\n",
       "      <td>/gpfs/data/razavianlab/data/mri/nyu/barlow_bid...</td>\n",
       "    </tr>\n",
       "    <tr>\n",
       "      <th>4</th>\n",
       "      <td>100705385639</td>\n",
       "      <td>4c1833793b70449da1017a8eb7592b12</td>\n",
       "      <td>2</td>\n",
       "      <td>77</td>\n",
       "      <td>/gpfs/data/razavianlab/data/mri/nyu/barlow_bid...</td>\n",
       "    </tr>\n",
       "    <tr>\n",
       "      <th>...</th>\n",
       "      <td>...</td>\n",
       "      <td>...</td>\n",
       "      <td>...</td>\n",
       "      <td>...</td>\n",
       "      <td>...</td>\n",
       "    </tr>\n",
       "    <tr>\n",
       "      <th>3231</th>\n",
       "      <td>998819920173</td>\n",
       "      <td>bbc73dd2480442108e5307511a1b9b75</td>\n",
       "      <td>1</td>\n",
       "      <td>54</td>\n",
       "      <td>/gpfs/data/razavianlab/data/mri/nyu/barlow_bid...</td>\n",
       "    </tr>\n",
       "    <tr>\n",
       "      <th>3232</th>\n",
       "      <td>998819920173</td>\n",
       "      <td>bbc73dd2480442108e5307511a1b9b75</td>\n",
       "      <td>1</td>\n",
       "      <td>54</td>\n",
       "      <td>/gpfs/data/razavianlab/data/mri/nyu/barlow_bid...</td>\n",
       "    </tr>\n",
       "    <tr>\n",
       "      <th>3233</th>\n",
       "      <td>998819920173</td>\n",
       "      <td>bbc73dd2480442108e5307511a1b9b75</td>\n",
       "      <td>1</td>\n",
       "      <td>54</td>\n",
       "      <td>/gpfs/data/razavianlab/data/mri/nyu/barlow_bid...</td>\n",
       "    </tr>\n",
       "    <tr>\n",
       "      <th>3234</th>\n",
       "      <td>999155686841</td>\n",
       "      <td>b3ddd61266c842a9b98597579f1054df</td>\n",
       "      <td>0</td>\n",
       "      <td>56</td>\n",
       "      <td>/gpfs/data/razavianlab/data/mri/nyu/barlow_bid...</td>\n",
       "    </tr>\n",
       "    <tr>\n",
       "      <th>3235</th>\n",
       "      <td>999155686841</td>\n",
       "      <td>b3ddd61266c842a9b98597579f1054df</td>\n",
       "      <td>0</td>\n",
       "      <td>56</td>\n",
       "      <td>/gpfs/data/razavianlab/data/mri/nyu/barlow_bid...</td>\n",
       "    </tr>\n",
       "  </tbody>\n",
       "</table>\n",
       "<p>3236 rows × 5 columns</p>\n",
       "</div>"
      ],
      "text/plain": [
       "           Session                           Subject  Label  Age  \\\n",
       "0     100039817943  210909b9725245c5a09e052b931447f4      0   52   \n",
       "1     100402864124  fc9d3132547b40d88b14b49f22059a7d      0   58   \n",
       "2     100402864124  fc9d3132547b40d88b14b49f22059a7d      0   58   \n",
       "3     100561623079  19a7816500184206baae665fb54d9486      1   64   \n",
       "4     100705385639  4c1833793b70449da1017a8eb7592b12      2   77   \n",
       "...            ...                               ...    ...  ...   \n",
       "3231  998819920173  bbc73dd2480442108e5307511a1b9b75      1   54   \n",
       "3232  998819920173  bbc73dd2480442108e5307511a1b9b75      1   54   \n",
       "3233  998819920173  bbc73dd2480442108e5307511a1b9b75      1   54   \n",
       "3234  999155686841  b3ddd61266c842a9b98597579f1054df      0   56   \n",
       "3235  999155686841  b3ddd61266c842a9b98597579f1054df      0   56   \n",
       "\n",
       "                                                   Path  \n",
       "0     /gpfs/data/razavianlab/data/mri/nyu/barlow_bid...  \n",
       "1     /gpfs/data/razavianlab/data/mri/nyu/barlow_bid...  \n",
       "2     /gpfs/data/razavianlab/data/mri/nyu/barlow_bid...  \n",
       "3     /gpfs/data/razavianlab/data/mri/nyu/barlow_bid...  \n",
       "4     /gpfs/data/razavianlab/data/mri/nyu/barlow_bid...  \n",
       "...                                                 ...  \n",
       "3231  /gpfs/data/razavianlab/data/mri/nyu/barlow_bid...  \n",
       "3232  /gpfs/data/razavianlab/data/mri/nyu/barlow_bid...  \n",
       "3233  /gpfs/data/razavianlab/data/mri/nyu/barlow_bid...  \n",
       "3234  /gpfs/data/razavianlab/data/mri/nyu/barlow_bid...  \n",
       "3235  /gpfs/data/razavianlab/data/mri/nyu/barlow_bid...  \n",
       "\n",
       "[3236 rows x 5 columns]"
      ]
     },
     "execution_count": 7,
     "metadata": {},
     "output_type": "execute_result"
    }
   ],
   "source": [
    "t1_file = pd.read_csv('/gpfs/home/lc3424/capstone/2021_dementia/lc3424_workspace/experiments/20211102/volume_label_with_file_path_with_age_20211102.tsv', sep='\\t')\n",
    "t1_file.drop('Unnamed: 0', axis=1, inplace=True)\n",
    "t1_file"
   ]
  },
  {
   "cell_type": "code",
   "execution_count": 8,
   "metadata": {},
   "outputs": [
    {
     "data": {
      "text/html": [
       "<div>\n",
       "<style scoped>\n",
       "    .dataframe tbody tr th:only-of-type {\n",
       "        vertical-align: middle;\n",
       "    }\n",
       "\n",
       "    .dataframe tbody tr th {\n",
       "        vertical-align: top;\n",
       "    }\n",
       "\n",
       "    .dataframe thead th {\n",
       "        text-align: right;\n",
       "    }\n",
       "</style>\n",
       "<table border=\"1\" class=\"dataframe\">\n",
       "  <thead>\n",
       "    <tr style=\"text-align: right;\">\n",
       "      <th></th>\n",
       "      <th>Session</th>\n",
       "      <th>flair_path</th>\n",
       "      <th>Subject</th>\n",
       "      <th>scan_date_time</th>\n",
       "      <th>Label</th>\n",
       "      <th>t1_path</th>\n",
       "      <th>Path</th>\n",
       "    </tr>\n",
       "  </thead>\n",
       "  <tbody>\n",
       "    <tr>\n",
       "      <th>0</th>\n",
       "      <td>642974572045</td>\n",
       "      <td>/gpfs/data/razavianlab/data/mri/nyu/barlow_nii...</td>\n",
       "      <td>91b21976a74d4ca1bd68802fddaf0773</td>\n",
       "      <td>2018-05-15 09:45:00</td>\n",
       "      <td>1</td>\n",
       "      <td>/gpfs/data/razavianlab/data/mri/nyu/barlow_bid...</td>\n",
       "      <td>/gpfs/data/razavianlab/data/mri/nyu/barlow_fla...</td>\n",
       "    </tr>\n",
       "    <tr>\n",
       "      <th>1</th>\n",
       "      <td>606661809808</td>\n",
       "      <td>/gpfs/data/razavianlab/data/mri/nyu/barlow_nii...</td>\n",
       "      <td>3eeb7c170c0c4b14a891b414df82af53</td>\n",
       "      <td>2016-04-19 14:07:00</td>\n",
       "      <td>1</td>\n",
       "      <td>/gpfs/data/razavianlab/data/mri/nyu/barlow_bid...</td>\n",
       "      <td>/gpfs/data/razavianlab/data/mri/nyu/barlow_fla...</td>\n",
       "    </tr>\n",
       "    <tr>\n",
       "      <th>2</th>\n",
       "      <td>606661809808</td>\n",
       "      <td>/gpfs/data/razavianlab/data/mri/nyu/barlow_nii...</td>\n",
       "      <td>3eeb7c170c0c4b14a891b414df82af53</td>\n",
       "      <td>2016-04-19 14:07:00</td>\n",
       "      <td>1</td>\n",
       "      <td>/gpfs/data/razavianlab/data/mri/nyu/barlow_bid...</td>\n",
       "      <td>/gpfs/data/razavianlab/data/mri/nyu/barlow_fla...</td>\n",
       "    </tr>\n",
       "    <tr>\n",
       "      <th>3</th>\n",
       "      <td>606661809808</td>\n",
       "      <td>/gpfs/data/razavianlab/data/mri/nyu/barlow_nii...</td>\n",
       "      <td>3eeb7c170c0c4b14a891b414df82af53</td>\n",
       "      <td>2016-04-19 14:07:00</td>\n",
       "      <td>1</td>\n",
       "      <td>/gpfs/data/razavianlab/data/mri/nyu/barlow_bid...</td>\n",
       "      <td>/gpfs/data/razavianlab/data/mri/nyu/barlow_fla...</td>\n",
       "    </tr>\n",
       "    <tr>\n",
       "      <th>4</th>\n",
       "      <td>606661809808</td>\n",
       "      <td>/gpfs/data/razavianlab/data/mri/nyu/barlow_nii...</td>\n",
       "      <td>3eeb7c170c0c4b14a891b414df82af53</td>\n",
       "      <td>2016-04-19 14:07:00</td>\n",
       "      <td>1</td>\n",
       "      <td>/gpfs/data/razavianlab/data/mri/nyu/barlow_bid...</td>\n",
       "      <td>/gpfs/data/razavianlab/data/mri/nyu/barlow_fla...</td>\n",
       "    </tr>\n",
       "    <tr>\n",
       "      <th>...</th>\n",
       "      <td>...</td>\n",
       "      <td>...</td>\n",
       "      <td>...</td>\n",
       "      <td>...</td>\n",
       "      <td>...</td>\n",
       "      <td>...</td>\n",
       "      <td>...</td>\n",
       "    </tr>\n",
       "    <tr>\n",
       "      <th>2834</th>\n",
       "      <td>135396913182</td>\n",
       "      <td>/gpfs/data/razavianlab/data/mri/nyu/barlow_nii...</td>\n",
       "      <td>a1ea33913ddd4759988aab413bbe1232</td>\n",
       "      <td>2018-07-16 19:03:00</td>\n",
       "      <td>0</td>\n",
       "      <td>/gpfs/data/razavianlab/data/mri/nyu/barlow_bid...</td>\n",
       "      <td>/gpfs/data/razavianlab/data/mri/nyu/barlow_fla...</td>\n",
       "    </tr>\n",
       "    <tr>\n",
       "      <th>2835</th>\n",
       "      <td>905719790534</td>\n",
       "      <td>/gpfs/data/razavianlab/data/mri/nyu/barlow_nii...</td>\n",
       "      <td>797427b0f85a44a9994d1967c2bed70a</td>\n",
       "      <td>2015-02-27 09:35:00</td>\n",
       "      <td>2</td>\n",
       "      <td>/gpfs/data/razavianlab/data/mri/nyu/barlow_bid...</td>\n",
       "      <td>/gpfs/data/razavianlab/data/mri/nyu/barlow_fla...</td>\n",
       "    </tr>\n",
       "    <tr>\n",
       "      <th>2836</th>\n",
       "      <td>905719790534</td>\n",
       "      <td>/gpfs/data/razavianlab/data/mri/nyu/barlow_nii...</td>\n",
       "      <td>797427b0f85a44a9994d1967c2bed70a</td>\n",
       "      <td>2015-02-27 09:35:00</td>\n",
       "      <td>2</td>\n",
       "      <td>/gpfs/data/razavianlab/data/mri/nyu/barlow_bid...</td>\n",
       "      <td>/gpfs/data/razavianlab/data/mri/nyu/barlow_fla...</td>\n",
       "    </tr>\n",
       "    <tr>\n",
       "      <th>2837</th>\n",
       "      <td>100039817943</td>\n",
       "      <td>/gpfs/data/razavianlab/data/mri/nyu/barlow_nii...</td>\n",
       "      <td>210909b9725245c5a09e052b931447f4</td>\n",
       "      <td>2016-03-17 10:19:00</td>\n",
       "      <td>0</td>\n",
       "      <td>/gpfs/data/razavianlab/data/mri/nyu/barlow_bid...</td>\n",
       "      <td>/gpfs/data/razavianlab/data/mri/nyu/barlow_fla...</td>\n",
       "    </tr>\n",
       "    <tr>\n",
       "      <th>2838</th>\n",
       "      <td>100039817943</td>\n",
       "      <td>/gpfs/data/razavianlab/data/mri/nyu/barlow_nii...</td>\n",
       "      <td>210909b9725245c5a09e052b931447f4</td>\n",
       "      <td>2016-03-17 10:19:00</td>\n",
       "      <td>0</td>\n",
       "      <td>/gpfs/data/razavianlab/data/mri/nyu/barlow_bid...</td>\n",
       "      <td>/gpfs/data/razavianlab/data/mri/nyu/barlow_fla...</td>\n",
       "    </tr>\n",
       "  </tbody>\n",
       "</table>\n",
       "<p>2839 rows × 7 columns</p>\n",
       "</div>"
      ],
      "text/plain": [
       "           Session                                         flair_path  \\\n",
       "0     642974572045  /gpfs/data/razavianlab/data/mri/nyu/barlow_nii...   \n",
       "1     606661809808  /gpfs/data/razavianlab/data/mri/nyu/barlow_nii...   \n",
       "2     606661809808  /gpfs/data/razavianlab/data/mri/nyu/barlow_nii...   \n",
       "3     606661809808  /gpfs/data/razavianlab/data/mri/nyu/barlow_nii...   \n",
       "4     606661809808  /gpfs/data/razavianlab/data/mri/nyu/barlow_nii...   \n",
       "...            ...                                                ...   \n",
       "2834  135396913182  /gpfs/data/razavianlab/data/mri/nyu/barlow_nii...   \n",
       "2835  905719790534  /gpfs/data/razavianlab/data/mri/nyu/barlow_nii...   \n",
       "2836  905719790534  /gpfs/data/razavianlab/data/mri/nyu/barlow_nii...   \n",
       "2837  100039817943  /gpfs/data/razavianlab/data/mri/nyu/barlow_nii...   \n",
       "2838  100039817943  /gpfs/data/razavianlab/data/mri/nyu/barlow_nii...   \n",
       "\n",
       "                               Subject       scan_date_time  Label  \\\n",
       "0     91b21976a74d4ca1bd68802fddaf0773  2018-05-15 09:45:00      1   \n",
       "1     3eeb7c170c0c4b14a891b414df82af53  2016-04-19 14:07:00      1   \n",
       "2     3eeb7c170c0c4b14a891b414df82af53  2016-04-19 14:07:00      1   \n",
       "3     3eeb7c170c0c4b14a891b414df82af53  2016-04-19 14:07:00      1   \n",
       "4     3eeb7c170c0c4b14a891b414df82af53  2016-04-19 14:07:00      1   \n",
       "...                                ...                  ...    ...   \n",
       "2834  a1ea33913ddd4759988aab413bbe1232  2018-07-16 19:03:00      0   \n",
       "2835  797427b0f85a44a9994d1967c2bed70a  2015-02-27 09:35:00      2   \n",
       "2836  797427b0f85a44a9994d1967c2bed70a  2015-02-27 09:35:00      2   \n",
       "2837  210909b9725245c5a09e052b931447f4  2016-03-17 10:19:00      0   \n",
       "2838  210909b9725245c5a09e052b931447f4  2016-03-17 10:19:00      0   \n",
       "\n",
       "                                                t1_path  \\\n",
       "0     /gpfs/data/razavianlab/data/mri/nyu/barlow_bid...   \n",
       "1     /gpfs/data/razavianlab/data/mri/nyu/barlow_bid...   \n",
       "2     /gpfs/data/razavianlab/data/mri/nyu/barlow_bid...   \n",
       "3     /gpfs/data/razavianlab/data/mri/nyu/barlow_bid...   \n",
       "4     /gpfs/data/razavianlab/data/mri/nyu/barlow_bid...   \n",
       "...                                                 ...   \n",
       "2834  /gpfs/data/razavianlab/data/mri/nyu/barlow_bid...   \n",
       "2835  /gpfs/data/razavianlab/data/mri/nyu/barlow_bid...   \n",
       "2836  /gpfs/data/razavianlab/data/mri/nyu/barlow_bid...   \n",
       "2837  /gpfs/data/razavianlab/data/mri/nyu/barlow_bid...   \n",
       "2838  /gpfs/data/razavianlab/data/mri/nyu/barlow_bid...   \n",
       "\n",
       "                                                   Path  \n",
       "0     /gpfs/data/razavianlab/data/mri/nyu/barlow_fla...  \n",
       "1     /gpfs/data/razavianlab/data/mri/nyu/barlow_fla...  \n",
       "2     /gpfs/data/razavianlab/data/mri/nyu/barlow_fla...  \n",
       "3     /gpfs/data/razavianlab/data/mri/nyu/barlow_fla...  \n",
       "4     /gpfs/data/razavianlab/data/mri/nyu/barlow_fla...  \n",
       "...                                                 ...  \n",
       "2834  /gpfs/data/razavianlab/data/mri/nyu/barlow_fla...  \n",
       "2835  /gpfs/data/razavianlab/data/mri/nyu/barlow_fla...  \n",
       "2836  /gpfs/data/razavianlab/data/mri/nyu/barlow_fla...  \n",
       "2837  /gpfs/data/razavianlab/data/mri/nyu/barlow_fla...  \n",
       "2838  /gpfs/data/razavianlab/data/mri/nyu/barlow_fla...  \n",
       "\n",
       "[2839 rows x 7 columns]"
      ]
     },
     "execution_count": 8,
     "metadata": {},
     "output_type": "execute_result"
    }
   ],
   "source": [
    "t1_flair_file = pd.read_csv('/gpfs/home/lc3424/capstone/2021_dementia/lc3424_workspace/experiments/20211102/t1_flair_file_match_with_reg.tsv', sep='\\t')\n",
    "t1_flair_file"
   ]
  },
  {
   "cell_type": "code",
   "execution_count": 43,
   "metadata": {},
   "outputs": [],
   "source": [
    "\n",
    "t1_subject = t1_file.Subject.unique().tolist()"
   ]
  },
  {
   "cell_type": "code",
   "execution_count": 44,
   "metadata": {},
   "outputs": [
    {
     "name": "stdout",
     "output_type": "stream",
     "text": [
      "1106 1182\n"
     ]
    }
   ],
   "source": [
    "print(len(t1_flair_subject), len(t1_subject))"
   ]
  },
  {
   "cell_type": "code",
   "execution_count": 45,
   "metadata": {},
   "outputs": [
    {
     "name": "stdout",
     "output_type": "stream",
     "text": [
      "1106\n",
      "1106\n"
     ]
    }
   ],
   "source": [
    "print(len([i for i in t1_flair_subject if i in t1_subject]))\n",
    "print(len([i for i in t1_subject if i in t1_flair_subject]))"
   ]
  },
  {
   "cell_type": "code",
   "execution_count": 69,
   "metadata": {},
   "outputs": [
    {
     "name": "stdout",
     "output_type": "stream",
     "text": [
      "851 166 165\n"
     ]
    }
   ],
   "source": [
    "\"\"\"\n",
    "    TVT split\n",
    "    Test, val from t1_flair_subject, rest being train\n",
    "    T:V:T: 70:15:15, subject level\n",
    "    Get 6 dataframes\n",
    "        1. t1_test\n",
    "        2. flair_test\n",
    "        3. t1_val\n",
    "        4. flair_val\n",
    "        5. t1_train\n",
    "        6. flair_train\n",
    "\"\"\"\n",
    "t1_flair_subject = t1_flair_file.Subject.unique().tolist()\n",
    "random.Random(1).shuffle(t1_flair_subject)\n",
    "test_subject = t1_flair_subject[:int(len(t1_flair_subject) * .15)]\n",
    "val_subject = t1_flair_subject[int(len(t1_flair_subject) * .15) : int(len(t1_flair_subject) * .3)]\n",
    "train_subject = [i for i in t1_subject if not(i in test_subject or i in val_subject)]\n",
    "print(len(train_subject), len(val_subject), len(test_subject))\n",
    "\n",
    "t1_test = t1_flair_file[t1_flair_file.Subject.isin(test_subject)]\n",
    "flair_test = t1_test.copy()\n",
    "t1_test.drop('Path', axis=1, inplace=True)\n",
    "t1_test.rename({'t1_path' : 'Path'}, axis=1, inplace=True)\n",
    "\n",
    "t1_val = t1_flair_file[t1_flair_file.Subject.isin(val_subject)]\n",
    "flair_val = t1_val.copy()\n",
    "t1_val.drop('Path', axis=1, inplace=True)\n",
    "t1_val.rename({'t1_path' : 'Path'}, axis=1, inplace=True)\n",
    "\n",
    "t1_train = t1_file[t1_file.Subject.isin(train_subject)]\n",
    "flair_train = t1_flair_file[t1_flair_file.Subject.isin(train_subject)]\n"
   ]
  },
  {
   "cell_type": "code",
   "execution_count": 49,
   "metadata": {},
   "outputs": [
    {
     "name": "stdout",
     "output_type": "stream",
     "text": [
      "336 453 2306 2050\n"
     ]
    }
   ],
   "source": [
    "print(len(t1_flair_test), len(t1_flair_val), len(t1_train), len(flair_train))"
   ]
  },
  {
   "cell_type": "code",
   "execution_count": 70,
   "metadata": {},
   "outputs": [],
   "source": [
    "! cd /gpfs/home/lc3424/capstone/2021_dementia/lc3424_workspace/experiments/20211102/label_and_file_path/20211206\n",
    "\n",
    "t1_test.to_csv('t1_test.tsv', sep='\\t', index=False)\n",
    "flair_test.to_csv('flair_test.tsv', sep='\\t', index=False)\n",
    "t1_val.to_csv('t1_val.tsv', sep='\\t', index=False)\n",
    "flair_val.to_csv('flair_val.tsv', sep='\\t', index=False)\n",
    "t1_train.to_csv('t1_train.tsv', sep='\\t', index=False)\n",
    "flair_train.to_csv('flair_train.tsv', sep='\\t', index=False)\n"
   ]
  },
  {
   "cell_type": "code",
   "execution_count": 68,
   "metadata": {},
   "outputs": [
    {
     "data": {
      "text/plain": [
       "'/gpfs/data/razavianlab/data/mri/nyu/barlow_bids_t1_preprocess_A_part_b/subjects/sub-417dac95a7964b9bac8b1b5492f62d9e/ses-154923170543/t1/spm/segmentation/normalized_space/sub-417dac95a7964b9bac8b1b5492f62d9e_ses-154923170543_20130403-SAG_MPRAGE-2_space-Ixi549Space_T1w.nii.gz'"
      ]
     },
     "execution_count": 68,
     "metadata": {},
     "output_type": "execute_result"
    }
   ],
   "source": [
    "t1_test.Path.iloc[1]"
   ]
  },
  {
   "cell_type": "code",
   "execution_count": 61,
   "metadata": {},
   "outputs": [
    {
     "data": {
      "text/plain": [
       "'/gpfs/data/razavianlab/data/mri/nyu/barlow_niigz/data/154923170543/2538847455-20130403-AX_T2_FLAIR-4/2538847455-20130403-AX_T2_FLAIR-4.nii.gz'"
      ]
     },
     "execution_count": 61,
     "metadata": {},
     "output_type": "execute_result"
    }
   ],
   "source": [
    "t1_flair_test.flair_path.iloc[1]"
   ]
  },
  {
   "cell_type": "code",
   "execution_count": 62,
   "metadata": {},
   "outputs": [
    {
     "data": {
      "text/plain": [
       "'/gpfs/data/razavianlab/data/mri/nyu/barlow_bids_t1_preprocess_A_part_b/subjects/sub-417dac95a7964b9bac8b1b5492f62d9e/ses-154923170543/t1/spm/segmentation/normalized_space/sub-417dac95a7964b9bac8b1b5492f62d9e_ses-154923170543_20130403-SAG_MPRAGE-2_space-Ixi549Space_T1w.nii.gz'"
      ]
     },
     "execution_count": 62,
     "metadata": {},
     "output_type": "execute_result"
    }
   ],
   "source": [
    "t1_flair_test.t1_path.iloc[1]"
   ]
  },
  {
   "cell_type": "code",
   "execution_count": null,
   "metadata": {},
   "outputs": [],
   "source": []
  }
 ],
 "metadata": {
  "interpreter": {
   "hash": "0e8386aff9bed6f101dabdf7ab351760d41630455b6724ec66cb923012af5fad"
  },
  "kernelspec": {
   "display_name": "Python 3.9.5 64-bit ('base': conda)",
   "language": "python",
   "name": "python3"
  },
  "language_info": {
   "codemirror_mode": {
    "name": "ipython",
    "version": 3
   },
   "file_extension": ".py",
   "mimetype": "text/x-python",
   "name": "python",
   "nbconvert_exporter": "python",
   "pygments_lexer": "ipython3",
   "version": "3.9.5"
  },
  "orig_nbformat": 4
 },
 "nbformat": 4,
 "nbformat_minor": 2
}
